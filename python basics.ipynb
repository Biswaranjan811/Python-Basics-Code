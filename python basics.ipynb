{
 "cells": [
  {
   "cell_type": "code",
   "execution_count": 1,
   "id": "f440a3dd",
   "metadata": {},
   "outputs": [
    {
     "name": "stdout",
     "output_type": "stream",
     "text": [
      "The Zen of Python, by Tim Peters\n",
      "\n",
      "Beautiful is better than ugly.\n",
      "Explicit is better than implicit.\n",
      "Simple is better than complex.\n",
      "Complex is better than complicated.\n",
      "Flat is better than nested.\n",
      "Sparse is better than dense.\n",
      "Readability counts.\n",
      "Special cases aren't special enough to break the rules.\n",
      "Although practicality beats purity.\n",
      "Errors should never pass silently.\n",
      "Unless explicitly silenced.\n",
      "In the face of ambiguity, refuse the temptation to guess.\n",
      "There should be one-- and preferably only one --obvious way to do it.\n",
      "Although that way may not be obvious at first unless you're Dutch.\n",
      "Now is better than never.\n",
      "Although never is often better than *right* now.\n",
      "If the implementation is hard to explain, it's a bad idea.\n",
      "If the implementation is easy to explain, it may be a good idea.\n",
      "Namespaces are one honking great idea -- let's do more of those!\n"
     ]
    }
   ],
   "source": [
    "import this"
   ]
  },
  {
   "cell_type": "code",
   "execution_count": 4,
   "id": "c52d64ce",
   "metadata": {},
   "outputs": [],
   "source": [
    "chintu= 4231"
   ]
  },
  {
   "cell_type": "code",
   "execution_count": 5,
   "id": "78881520",
   "metadata": {},
   "outputs": [
    {
     "data": {
      "text/plain": [
       "4231"
      ]
     },
     "execution_count": 5,
     "metadata": {},
     "output_type": "execute_result"
    }
   ],
   "source": [
    "chintu"
   ]
  },
  {
   "cell_type": "code",
   "execution_count": 1,
   "id": "f646481b",
   "metadata": {},
   "outputs": [
    {
     "data": {
      "text/plain": [
       "str"
      ]
     },
     "execution_count": 1,
     "metadata": {},
     "output_type": "execute_result"
    }
   ],
   "source": [
    "type(\"chintu\")"
   ]
  },
  {
   "cell_type": "code",
   "execution_count": 11,
   "id": "a2788410",
   "metadata": {},
   "outputs": [],
   "source": [
    "c = \"subbu\""
   ]
  },
  {
   "cell_type": "code",
   "execution_count": 12,
   "id": "ab4d4495",
   "metadata": {},
   "outputs": [
    {
     "data": {
      "text/plain": [
       "'subbu'"
      ]
     },
     "execution_count": 12,
     "metadata": {},
     "output_type": "execute_result"
    }
   ],
   "source": [
    "c"
   ]
  },
  {
   "cell_type": "code",
   "execution_count": 14,
   "id": "c1750f17",
   "metadata": {},
   "outputs": [
    {
     "data": {
      "text/plain": [
       "str"
      ]
     },
     "execution_count": 14,
     "metadata": {},
     "output_type": "execute_result"
    }
   ],
   "source": [
    "type(c)"
   ]
  },
  {
   "cell_type": "code",
   "execution_count": 15,
   "id": "c556af36",
   "metadata": {},
   "outputs": [],
   "source": [
    "a = 80.13"
   ]
  },
  {
   "cell_type": "code",
   "execution_count": 16,
   "id": "57a44268",
   "metadata": {},
   "outputs": [
    {
     "data": {
      "text/plain": [
       "float"
      ]
     },
     "execution_count": 16,
     "metadata": {},
     "output_type": "execute_result"
    }
   ],
   "source": [
    "type(a)"
   ]
  },
  {
   "cell_type": "code",
   "execution_count": 17,
   "id": "92281739",
   "metadata": {},
   "outputs": [],
   "source": [
    "d = (8+9j)"
   ]
  },
  {
   "cell_type": "code",
   "execution_count": 18,
   "id": "7b3bedbe",
   "metadata": {},
   "outputs": [
    {
     "data": {
      "text/plain": [
       "complex"
      ]
     },
     "execution_count": 18,
     "metadata": {},
     "output_type": "execute_result"
    }
   ],
   "source": [
    "type(d)"
   ]
  },
  {
   "cell_type": "code",
   "execution_count": 19,
   "id": "5c093d46",
   "metadata": {},
   "outputs": [],
   "source": [
    "b = \"chintu\""
   ]
  },
  {
   "cell_type": "code",
   "execution_count": 20,
   "id": "b3d79d8a",
   "metadata": {},
   "outputs": [
    {
     "data": {
      "text/plain": [
       "str"
      ]
     },
     "execution_count": 20,
     "metadata": {},
     "output_type": "execute_result"
    }
   ],
   "source": [
    "type(b)"
   ]
  },
  {
   "cell_type": "code",
   "execution_count": 21,
   "id": "cbcc5474",
   "metadata": {},
   "outputs": [
    {
     "data": {
      "text/plain": [
       "5"
      ]
     },
     "execution_count": 21,
     "metadata": {},
     "output_type": "execute_result"
    }
   ],
   "source": [
    "3+2"
   ]
  },
  {
   "cell_type": "code",
   "execution_count": 23,
   "id": "f85dedbf",
   "metadata": {},
   "outputs": [],
   "source": [
    "n = \"djsfhdbfbdfjkdn\""
   ]
  },
  {
   "cell_type": "code",
   "execution_count": 25,
   "id": "05bc7667",
   "metadata": {},
   "outputs": [],
   "source": [
    "n = \"akajbfjdabjbhjfhakhuashfknakn\""
   ]
  },
  {
   "cell_type": "code",
   "execution_count": 26,
   "id": "3ec5c85f",
   "metadata": {},
   "outputs": [],
   "source": [
    "a=35"
   ]
  },
  {
   "cell_type": "code",
   "execution_count": 27,
   "id": "885718da",
   "metadata": {},
   "outputs": [],
   "source": [
    "a=34\n",
    "b=\"chintu\"\n",
    "c=(8+9j)\n",
    "d=True"
   ]
  },
  {
   "cell_type": "code",
   "execution_count": 28,
   "id": "977d5d59",
   "metadata": {},
   "outputs": [
    {
     "data": {
      "text/plain": [
       "True"
      ]
     },
     "execution_count": 28,
     "metadata": {},
     "output_type": "execute_result"
    }
   ],
   "source": [
    "d"
   ]
  },
  {
   "cell_type": "code",
   "execution_count": 29,
   "id": "08912546",
   "metadata": {},
   "outputs": [
    {
     "data": {
      "text/plain": [
       "'chintu'"
      ]
     },
     "execution_count": 29,
     "metadata": {},
     "output_type": "execute_result"
    }
   ],
   "source": [
    "b"
   ]
  },
  {
   "cell_type": "code",
   "execution_count": 30,
   "id": "d5bf76bd",
   "metadata": {},
   "outputs": [
    {
     "data": {
      "text/plain": [
       "34"
      ]
     },
     "execution_count": 30,
     "metadata": {},
     "output_type": "execute_result"
    }
   ],
   "source": [
    "a"
   ]
  },
  {
   "cell_type": "code",
   "execution_count": 31,
   "id": "50dc3ced",
   "metadata": {},
   "outputs": [
    {
     "data": {
      "text/plain": [
       "(8+9j)"
      ]
     },
     "execution_count": 31,
     "metadata": {},
     "output_type": "execute_result"
    }
   ],
   "source": [
    "c"
   ]
  },
  {
   "cell_type": "code",
   "execution_count": 32,
   "id": "484c9755",
   "metadata": {},
   "outputs": [],
   "source": [
    "a1=567"
   ]
  },
  {
   "cell_type": "code",
   "execution_count": 33,
   "id": "f56dd34b",
   "metadata": {},
   "outputs": [
    {
     "data": {
      "text/plain": [
       "601"
      ]
     },
     "execution_count": 33,
     "metadata": {},
     "output_type": "execute_result"
    }
   ],
   "source": [
    "a+a1"
   ]
  },
  {
   "cell_type": "code",
   "execution_count": 35,
   "id": "3c97a652",
   "metadata": {},
   "outputs": [
    {
     "data": {
      "text/plain": [
       "9.0"
      ]
     },
     "execution_count": 35,
     "metadata": {},
     "output_type": "execute_result"
    }
   ],
   "source": [
    "c.imag"
   ]
  },
  {
   "cell_type": "code",
   "execution_count": 36,
   "id": "82dbff53",
   "metadata": {},
   "outputs": [
    {
     "data": {
      "text/plain": [
       "8.0"
      ]
     },
     "execution_count": 36,
     "metadata": {},
     "output_type": "execute_result"
    }
   ],
   "source": [
    "c.real"
   ]
  },
  {
   "cell_type": "code",
   "execution_count": 3,
   "id": "c38b5c60",
   "metadata": {},
   "outputs": [],
   "source": [
    "b=\"chintu\""
   ]
  },
  {
   "cell_type": "code",
   "execution_count": 10,
   "id": "0caca8e5",
   "metadata": {},
   "outputs": [
    {
     "data": {
      "text/plain": [
       "'Chintu'"
      ]
     },
     "execution_count": 10,
     "metadata": {},
     "output_type": "execute_result"
    }
   ],
   "source": [
    "b.capitalize()"
   ]
  },
  {
   "cell_type": "code",
   "execution_count": 9,
   "id": "6157a787",
   "metadata": {},
   "outputs": [
    {
     "data": {
      "text/plain": [
       "'chintu4'"
      ]
     },
     "execution_count": 9,
     "metadata": {},
     "output_type": "execute_result"
    }
   ],
   "source": [
    "b+\"4\""
   ]
  },
  {
   "cell_type": "code",
   "execution_count": 41,
   "id": "b94d71b7",
   "metadata": {},
   "outputs": [
    {
     "data": {
      "text/plain": [
       "'chintu4'"
      ]
     },
     "execution_count": 41,
     "metadata": {},
     "output_type": "execute_result"
    }
   ],
   "source": [
    "b+str(4)"
   ]
  },
  {
   "cell_type": "code",
   "execution_count": 42,
   "id": "877da7d9",
   "metadata": {},
   "outputs": [
    {
     "data": {
      "text/plain": [
       "2"
      ]
     },
     "execution_count": 42,
     "metadata": {},
     "output_type": "execute_result"
    }
   ],
   "source": [
    "True+True"
   ]
  },
  {
   "cell_type": "code",
   "execution_count": 43,
   "id": "294b1816",
   "metadata": {},
   "outputs": [
    {
     "data": {
      "text/plain": [
       "1"
      ]
     },
     "execution_count": 43,
     "metadata": {},
     "output_type": "execute_result"
    }
   ],
   "source": [
    "True+False"
   ]
  },
  {
   "cell_type": "code",
   "execution_count": 44,
   "id": "716380fc",
   "metadata": {},
   "outputs": [
    {
     "data": {
      "text/plain": [
       "1"
      ]
     },
     "execution_count": 44,
     "metadata": {},
     "output_type": "execute_result"
    }
   ],
   "source": [
    "True-False"
   ]
  },
  {
   "cell_type": "code",
   "execution_count": 45,
   "id": "05c94488",
   "metadata": {},
   "outputs": [
    {
     "data": {
      "text/plain": [
       "0"
      ]
     },
     "execution_count": 45,
     "metadata": {},
     "output_type": "execute_result"
    }
   ],
   "source": [
    "False+False"
   ]
  },
  {
   "cell_type": "code",
   "execution_count": 46,
   "id": "98108990",
   "metadata": {},
   "outputs": [],
   "source": [
    "a=5436346"
   ]
  },
  {
   "cell_type": "code",
   "execution_count": 47,
   "id": "5ee74fa1",
   "metadata": {},
   "outputs": [],
   "source": [
    "b=55"
   ]
  },
  {
   "cell_type": "code",
   "execution_count": 48,
   "id": "a30c02b2",
   "metadata": {},
   "outputs": [
    {
     "data": {
      "text/plain": [
       "5436401"
      ]
     },
     "execution_count": 48,
     "metadata": {},
     "output_type": "execute_result"
    }
   ],
   "source": [
    "int(a+b)"
   ]
  },
  {
   "cell_type": "code",
   "execution_count": 49,
   "id": "16c89ac2",
   "metadata": {},
   "outputs": [
    {
     "name": "stdout",
     "output_type": "stream",
     "text": [
      "subbu\n"
     ]
    }
   ],
   "source": [
    "a=input()"
   ]
  },
  {
   "cell_type": "code",
   "execution_count": 50,
   "id": "5bb24ab8",
   "metadata": {},
   "outputs": [
    {
     "name": "stdout",
     "output_type": "stream",
     "text": [
      "chintu\n"
     ]
    }
   ],
   "source": [
    "b=input()"
   ]
  },
  {
   "cell_type": "code",
   "execution_count": 51,
   "id": "11230add",
   "metadata": {},
   "outputs": [
    {
     "data": {
      "text/plain": [
       "'subbuchintu'"
      ]
     },
     "execution_count": 51,
     "metadata": {},
     "output_type": "execute_result"
    }
   ],
   "source": [
    "str(a+b)"
   ]
  },
  {
   "cell_type": "code",
   "execution_count": 53,
   "id": "48f07701",
   "metadata": {},
   "outputs": [
    {
     "name": "stdout",
     "output_type": "stream",
     "text": [
      "1234\n"
     ]
    }
   ],
   "source": [
    "c=input()"
   ]
  },
  {
   "cell_type": "code",
   "execution_count": 55,
   "id": "ee8e02a5",
   "metadata": {},
   "outputs": [
    {
     "name": "stdout",
     "output_type": "stream",
     "text": [
      "43214321\n"
     ]
    }
   ],
   "source": [
    "d=input(4321)"
   ]
  },
  {
   "cell_type": "code",
   "execution_count": 58,
   "id": "c01138de",
   "metadata": {},
   "outputs": [
    {
     "data": {
      "text/plain": [
       "12344321"
      ]
     },
     "execution_count": 58,
     "metadata": {},
     "output_type": "execute_result"
    }
   ],
   "source": [
    "int(c+d)"
   ]
  },
  {
   "cell_type": "code",
   "execution_count": 1,
   "id": "b62922ed",
   "metadata": {},
   "outputs": [],
   "source": [
    "b=\"chintu\""
   ]
  },
  {
   "cell_type": "code",
   "execution_count": 3,
   "id": "4f30c165",
   "metadata": {},
   "outputs": [
    {
     "data": {
      "text/plain": [
       "'c'"
      ]
     },
     "execution_count": 3,
     "metadata": {},
     "output_type": "execute_result"
    }
   ],
   "source": [
    "b[0]"
   ]
  },
  {
   "cell_type": "code",
   "execution_count": 4,
   "id": "69846684",
   "metadata": {},
   "outputs": [
    {
     "data": {
      "text/plain": [
       "'h'"
      ]
     },
     "execution_count": 4,
     "metadata": {},
     "output_type": "execute_result"
    }
   ],
   "source": [
    "b[1]"
   ]
  },
  {
   "cell_type": "code",
   "execution_count": 5,
   "id": "c7e6f8ad",
   "metadata": {},
   "outputs": [
    {
     "data": {
      "text/plain": [
       "'i'"
      ]
     },
     "execution_count": 5,
     "metadata": {},
     "output_type": "execute_result"
    }
   ],
   "source": [
    "b[2]"
   ]
  },
  {
   "cell_type": "code",
   "execution_count": 6,
   "id": "f9ba6979",
   "metadata": {},
   "outputs": [
    {
     "data": {
      "text/plain": [
       "'n'"
      ]
     },
     "execution_count": 6,
     "metadata": {},
     "output_type": "execute_result"
    }
   ],
   "source": [
    "b[3]"
   ]
  },
  {
   "cell_type": "code",
   "execution_count": 7,
   "id": "9454fc12",
   "metadata": {},
   "outputs": [
    {
     "data": {
      "text/plain": [
       "'t'"
      ]
     },
     "execution_count": 7,
     "metadata": {},
     "output_type": "execute_result"
    }
   ],
   "source": [
    "b[4]"
   ]
  },
  {
   "cell_type": "code",
   "execution_count": 8,
   "id": "d2fbe85b",
   "metadata": {},
   "outputs": [
    {
     "data": {
      "text/plain": [
       "'u'"
      ]
     },
     "execution_count": 8,
     "metadata": {},
     "output_type": "execute_result"
    }
   ],
   "source": [
    "b[5]"
   ]
  },
  {
   "cell_type": "code",
   "execution_count": 10,
   "id": "57a716fe",
   "metadata": {},
   "outputs": [
    {
     "data": {
      "text/plain": [
       "'u'"
      ]
     },
     "execution_count": 10,
     "metadata": {},
     "output_type": "execute_result"
    }
   ],
   "source": [
    "b[-1]"
   ]
  },
  {
   "cell_type": "code",
   "execution_count": 11,
   "id": "139d08ce",
   "metadata": {},
   "outputs": [
    {
     "data": {
      "text/plain": [
       "'t'"
      ]
     },
     "execution_count": 11,
     "metadata": {},
     "output_type": "execute_result"
    }
   ],
   "source": [
    "b[-2]"
   ]
  },
  {
   "cell_type": "code",
   "execution_count": 2,
   "id": "7a3f3658",
   "metadata": {},
   "outputs": [],
   "source": [
    "b='chintu'"
   ]
  },
  {
   "cell_type": "code",
   "execution_count": 3,
   "id": "f7f198ae",
   "metadata": {},
   "outputs": [
    {
     "data": {
      "text/plain": [
       "'n'"
      ]
     },
     "execution_count": 3,
     "metadata": {},
     "output_type": "execute_result"
    }
   ],
   "source": [
    "b[-3]"
   ]
  },
  {
   "cell_type": "code",
   "execution_count": 4,
   "id": "c6207a2b",
   "metadata": {},
   "outputs": [
    {
     "data": {
      "text/plain": [
       "'i'"
      ]
     },
     "execution_count": 4,
     "metadata": {},
     "output_type": "execute_result"
    }
   ],
   "source": [
    "b[-4]"
   ]
  },
  {
   "cell_type": "code",
   "execution_count": 5,
   "id": "c6f38fef",
   "metadata": {},
   "outputs": [
    {
     "data": {
      "text/plain": [
       "'h'"
      ]
     },
     "execution_count": 5,
     "metadata": {},
     "output_type": "execute_result"
    }
   ],
   "source": [
    "b[-5]"
   ]
  },
  {
   "cell_type": "code",
   "execution_count": 6,
   "id": "c64fb633",
   "metadata": {},
   "outputs": [
    {
     "data": {
      "text/plain": [
       "'c'"
      ]
     },
     "execution_count": 6,
     "metadata": {},
     "output_type": "execute_result"
    }
   ],
   "source": [
    "b[-6]"
   ]
  },
  {
   "cell_type": "code",
   "execution_count": 7,
   "id": "123bb81a",
   "metadata": {},
   "outputs": [],
   "source": [
    "a='i love you'"
   ]
  },
  {
   "cell_type": "code",
   "execution_count": 8,
   "id": "1a8542f7",
   "metadata": {},
   "outputs": [
    {
     "data": {
      "text/plain": [
       "'i love you'"
      ]
     },
     "execution_count": 8,
     "metadata": {},
     "output_type": "execute_result"
    }
   ],
   "source": [
    "a[0:10]"
   ]
  },
  {
   "cell_type": "code",
   "execution_count": 9,
   "id": "fff3841f",
   "metadata": {},
   "outputs": [
    {
     "data": {
      "text/plain": [
       "'i lov'"
      ]
     },
     "execution_count": 9,
     "metadata": {},
     "output_type": "execute_result"
    }
   ],
   "source": [
    "a[0:5]"
   ]
  },
  {
   "cell_type": "code",
   "execution_count": 10,
   "id": "87ccb94c",
   "metadata": {},
   "outputs": [],
   "source": [
    "a='biswaranjan'"
   ]
  },
  {
   "cell_type": "code",
   "execution_count": 12,
   "id": "531f5da3",
   "metadata": {},
   "outputs": [
    {
     "data": {
      "text/plain": [
       "'brn'"
      ]
     },
     "execution_count": 12,
     "metadata": {},
     "output_type": "execute_result"
    }
   ],
   "source": [
    "a[0:400:5]"
   ]
  },
  {
   "cell_type": "code",
   "execution_count": 13,
   "id": "d59d50ec",
   "metadata": {},
   "outputs": [
    {
     "data": {
      "text/plain": [
       "'bn'"
      ]
     },
     "execution_count": 13,
     "metadata": {},
     "output_type": "execute_result"
    }
   ],
   "source": [
    "a[0:800:7]"
   ]
  },
  {
   "cell_type": "code",
   "execution_count": 14,
   "id": "adb100f3",
   "metadata": {},
   "outputs": [
    {
     "data": {
      "text/plain": [
       "'nas'"
      ]
     },
     "execution_count": 14,
     "metadata": {},
     "output_type": "execute_result"
    }
   ],
   "source": [
    "a[-1:-400:-4]"
   ]
  },
  {
   "cell_type": "code",
   "execution_count": 15,
   "id": "8a0817bc",
   "metadata": {},
   "outputs": [
    {
     "data": {
      "text/plain": [
       "'nnai'"
      ]
     },
     "execution_count": 15,
     "metadata": {},
     "output_type": "execute_result"
    }
   ],
   "source": [
    "a[-1:-600:-3]"
   ]
  },
  {
   "cell_type": "code",
   "execution_count": 17,
   "id": "ed6133f4",
   "metadata": {},
   "outputs": [
    {
     "data": {
      "text/plain": [
       "'najnarawsib'"
      ]
     },
     "execution_count": 17,
     "metadata": {},
     "output_type": "execute_result"
    }
   ],
   "source": [
    "a[-1:-12:-1]"
   ]
  },
  {
   "cell_type": "code",
   "execution_count": 18,
   "id": "3d4102ff",
   "metadata": {},
   "outputs": [
    {
     "data": {
      "text/plain": [
       "'biswaranjan'"
      ]
     },
     "execution_count": 18,
     "metadata": {},
     "output_type": "execute_result"
    }
   ],
   "source": [
    "a"
   ]
  },
  {
   "cell_type": "code",
   "execution_count": 19,
   "id": "3316952d",
   "metadata": {},
   "outputs": [
    {
     "data": {
      "text/plain": [
       "'b'"
      ]
     },
     "execution_count": 19,
     "metadata": {},
     "output_type": "execute_result"
    }
   ],
   "source": [
    "a[0:-15:-1]"
   ]
  },
  {
   "cell_type": "code",
   "execution_count": 20,
   "id": "d660391e",
   "metadata": {},
   "outputs": [
    {
     "data": {
      "text/plain": [
       "'b'"
      ]
     },
     "execution_count": 20,
     "metadata": {},
     "output_type": "execute_result"
    }
   ],
   "source": [
    "a[0:-20:-5]"
   ]
  },
  {
   "cell_type": "code",
   "execution_count": 21,
   "id": "669ced81",
   "metadata": {},
   "outputs": [
    {
     "data": {
      "text/plain": [
       "''"
      ]
     },
     "execution_count": 21,
     "metadata": {},
     "output_type": "execute_result"
    }
   ],
   "source": [
    "a[0:20:-7]"
   ]
  },
  {
   "cell_type": "code",
   "execution_count": 22,
   "id": "ec776e63",
   "metadata": {},
   "outputs": [
    {
     "data": {
      "text/plain": [
       "'b'"
      ]
     },
     "execution_count": 22,
     "metadata": {},
     "output_type": "execute_result"
    }
   ],
   "source": [
    "a[0:-20:-7]"
   ]
  },
  {
   "cell_type": "code",
   "execution_count": 23,
   "id": "03688a28",
   "metadata": {},
   "outputs": [
    {
     "data": {
      "text/plain": [
       "'njaasb'"
      ]
     },
     "execution_count": 23,
     "metadata": {},
     "output_type": "execute_result"
    }
   ],
   "source": [
    "a[-1:-20:-2]"
   ]
  },
  {
   "cell_type": "code",
   "execution_count": 24,
   "id": "7149046d",
   "metadata": {},
   "outputs": [
    {
     "data": {
      "text/plain": [
       "'nnai'"
      ]
     },
     "execution_count": 24,
     "metadata": {},
     "output_type": "execute_result"
    }
   ],
   "source": [
    "a[-1:-20:-3]"
   ]
  },
  {
   "cell_type": "code",
   "execution_count": 26,
   "id": "aa45d313",
   "metadata": {},
   "outputs": [
    {
     "ename": "SyntaxError",
     "evalue": "invalid syntax (3099114087.py, line 1)",
     "output_type": "error",
     "traceback": [
      "\u001b[1;36m  Input \u001b[1;32mIn [26]\u001b[1;36m\u001b[0m\n\u001b[1;33m    a\"input\"\u001b[0m\n\u001b[1;37m     ^\u001b[0m\n\u001b[1;31mSyntaxError\u001b[0m\u001b[1;31m:\u001b[0m invalid syntax\n"
     ]
    }
   ],
   "source": [
    "a\"input\""
   ]
  },
  {
   "cell_type": "code",
   "execution_count": 27,
   "id": "d44f3813",
   "metadata": {},
   "outputs": [],
   "source": [
    "a=\"input\""
   ]
  },
  {
   "cell_type": "code",
   "execution_count": 28,
   "id": "2c8cb9d9",
   "metadata": {},
   "outputs": [
    {
     "name": "stdout",
     "output_type": "stream",
     "text": [
      "i am studying in ineuron\n"
     ]
    }
   ],
   "source": [
    "a=input()"
   ]
  },
  {
   "cell_type": "code",
   "execution_count": 29,
   "id": "d62bccc1",
   "metadata": {},
   "outputs": [
    {
     "data": {
      "text/plain": [
       "24"
      ]
     },
     "execution_count": 29,
     "metadata": {},
     "output_type": "execute_result"
    }
   ],
   "source": [
    "len(a)"
   ]
  },
  {
   "cell_type": "code",
   "execution_count": 30,
   "id": "640b2c13",
   "metadata": {},
   "outputs": [
    {
     "data": {
      "text/plain": [
       "'i am studying in ineuron'"
      ]
     },
     "execution_count": 30,
     "metadata": {},
     "output_type": "execute_result"
    }
   ],
   "source": [
    "a[0:100:1]"
   ]
  },
  {
   "cell_type": "code",
   "execution_count": 31,
   "id": "84746e98",
   "metadata": {},
   "outputs": [
    {
     "data": {
      "text/plain": [
       "'i'"
      ]
     },
     "execution_count": 31,
     "metadata": {},
     "output_type": "execute_result"
    }
   ],
   "source": [
    "a[0:-100:-1]"
   ]
  },
  {
   "cell_type": "code",
   "execution_count": 32,
   "id": "42662543",
   "metadata": {},
   "outputs": [
    {
     "data": {
      "text/plain": [
       "'norueni ni gniyduts ma i'"
      ]
     },
     "execution_count": 32,
     "metadata": {},
     "output_type": "execute_result"
    }
   ],
   "source": [
    "a[-1:-100:-1]"
   ]
  },
  {
   "cell_type": "code",
   "execution_count": 33,
   "id": "7c9c99e4",
   "metadata": {},
   "outputs": [
    {
     "data": {
      "text/plain": [
       "'nrein nyusm '"
      ]
     },
     "execution_count": 33,
     "metadata": {},
     "output_type": "execute_result"
    }
   ],
   "source": [
    "a[-1:-100:-2]"
   ]
  },
  {
   "cell_type": "code",
   "execution_count": 34,
   "id": "60ccccf8",
   "metadata": {},
   "outputs": [
    {
     "data": {
      "text/plain": [
       "'i am studying in ineuron'"
      ]
     },
     "execution_count": 34,
     "metadata": {},
     "output_type": "execute_result"
    }
   ],
   "source": [
    "a[0:100]"
   ]
  },
  {
   "cell_type": "code",
   "execution_count": 35,
   "id": "a7fabfcf",
   "metadata": {},
   "outputs": [
    {
     "data": {
      "text/plain": [
       "'isinu'"
      ]
     },
     "execution_count": 35,
     "metadata": {},
     "output_type": "execute_result"
    }
   ],
   "source": [
    "a[0:100:5]"
   ]
  },
  {
   "cell_type": "code",
   "execution_count": 36,
   "id": "accf109d",
   "metadata": {},
   "outputs": [
    {
     "data": {
      "text/plain": [
       "'ia tdigi nuo'"
      ]
     },
     "execution_count": 36,
     "metadata": {},
     "output_type": "execute_result"
    }
   ],
   "source": [
    "a[0:100:2]"
   ]
  },
  {
   "cell_type": "code",
   "execution_count": 37,
   "id": "176333a9",
   "metadata": {},
   "outputs": [
    {
     "data": {
      "text/plain": [
       "'i am '"
      ]
     },
     "execution_count": 37,
     "metadata": {},
     "output_type": "execute_result"
    }
   ],
   "source": [
    "a[0:5]"
   ]
  },
  {
   "cell_type": "code",
   "execution_count": 38,
   "id": "4958fb03",
   "metadata": {},
   "outputs": [
    {
     "data": {
      "text/plain": [
       "'i am studying in in'"
      ]
     },
     "execution_count": 38,
     "metadata": {},
     "output_type": "execute_result"
    }
   ],
   "source": [
    "a[0:-5]"
   ]
  },
  {
   "cell_type": "code",
   "execution_count": 39,
   "id": "e0e51d7b",
   "metadata": {},
   "outputs": [
    {
     "data": {
      "text/plain": [
       "''"
      ]
     },
     "execution_count": 39,
     "metadata": {},
     "output_type": "execute_result"
    }
   ],
   "source": [
    "a[-1:-100]"
   ]
  },
  {
   "cell_type": "code",
   "execution_count": 40,
   "id": "cf0e0c5c",
   "metadata": {},
   "outputs": [
    {
     "data": {
      "text/plain": [
       "'norueni ni gniyduts ma i'"
      ]
     },
     "execution_count": 40,
     "metadata": {},
     "output_type": "execute_result"
    }
   ],
   "source": [
    "a[-1:-100:-1]"
   ]
  },
  {
   "cell_type": "code",
   "execution_count": 41,
   "id": "178c0777",
   "metadata": {},
   "outputs": [
    {
     "data": {
      "text/plain": [
       "''"
      ]
     },
     "execution_count": 41,
     "metadata": {},
     "output_type": "execute_result"
    }
   ],
   "source": [
    "a[-1:-10]"
   ]
  },
  {
   "cell_type": "code",
   "execution_count": 42,
   "id": "8e829603",
   "metadata": {},
   "outputs": [
    {
     "data": {
      "text/plain": [
       "''"
      ]
     },
     "execution_count": 42,
     "metadata": {},
     "output_type": "execute_result"
    }
   ],
   "source": [
    "a[-1:-2]"
   ]
  },
  {
   "cell_type": "code",
   "execution_count": 43,
   "id": "8623ea54",
   "metadata": {},
   "outputs": [
    {
     "data": {
      "text/plain": [
       "'nrein nyusm '"
      ]
     },
     "execution_count": 43,
     "metadata": {},
     "output_type": "execute_result"
    }
   ],
   "source": [
    "a[-1:-100:-2]"
   ]
  },
  {
   "cell_type": "code",
   "execution_count": 44,
   "id": "2c5d7f7d",
   "metadata": {},
   "outputs": [
    {
     "data": {
      "text/plain": [
       "''"
      ]
     },
     "execution_count": 44,
     "metadata": {},
     "output_type": "execute_result"
    }
   ],
   "source": [
    "a[-1:-5]"
   ]
  },
  {
   "cell_type": "code",
   "execution_count": 45,
   "id": "f0a62c45",
   "metadata": {},
   "outputs": [
    {
     "data": {
      "text/plain": [
       "'nn dm'"
      ]
     },
     "execution_count": 45,
     "metadata": {},
     "output_type": "execute_result"
    }
   ],
   "source": [
    "a[-1:-100:-5]"
   ]
  },
  {
   "cell_type": "code",
   "execution_count": 1,
   "id": "def3f6b6",
   "metadata": {},
   "outputs": [],
   "source": [
    "a='biswaranjan'"
   ]
  },
  {
   "cell_type": "code",
   "execution_count": 2,
   "id": "49705c17",
   "metadata": {},
   "outputs": [
    {
     "data": {
      "text/plain": [
       "'biswaranjan'"
      ]
     },
     "execution_count": 2,
     "metadata": {},
     "output_type": "execute_result"
    }
   ],
   "source": [
    "a"
   ]
  },
  {
   "cell_type": "code",
   "execution_count": 3,
   "id": "a6aa0a85",
   "metadata": {},
   "outputs": [
    {
     "data": {
      "text/plain": [
       "'biswaranjan'"
      ]
     },
     "execution_count": 3,
     "metadata": {},
     "output_type": "execute_result"
    }
   ],
   "source": [
    "a[::]"
   ]
  },
  {
   "cell_type": "code",
   "execution_count": 4,
   "id": "701c2bb6",
   "metadata": {},
   "outputs": [
    {
     "data": {
      "text/plain": [
       "''"
      ]
     },
     "execution_count": 4,
     "metadata": {},
     "output_type": "execute_result"
    }
   ],
   "source": [
    "a[-5:-1:-5]"
   ]
  },
  {
   "cell_type": "code",
   "execution_count": 5,
   "id": "61be0fb2",
   "metadata": {},
   "outputs": [
    {
     "data": {
      "text/plain": [
       "'ajnarawsib'"
      ]
     },
     "execution_count": 5,
     "metadata": {},
     "output_type": "execute_result"
    }
   ],
   "source": [
    "a[-2:-100:-1]"
   ]
  },
  {
   "cell_type": "code",
   "execution_count": 6,
   "id": "822dbf79",
   "metadata": {},
   "outputs": [
    {
     "data": {
      "text/plain": [
       "'subbusubbusubbusubbusubbusubbusubbusubbu'"
      ]
     },
     "execution_count": 6,
     "metadata": {},
     "output_type": "execute_result"
    }
   ],
   "source": [
    "\"subbu\"*8"
   ]
  },
  {
   "cell_type": "code",
   "execution_count": 7,
   "id": "68964d21",
   "metadata": {},
   "outputs": [
    {
     "data": {
      "text/plain": [
       "'subbuchintu'"
      ]
     },
     "execution_count": 7,
     "metadata": {},
     "output_type": "execute_result"
    }
   ],
   "source": [
    "\"subbu\"+\"chintu\""
   ]
  },
  {
   "cell_type": "code",
   "execution_count": 8,
   "id": "c700c5f8",
   "metadata": {},
   "outputs": [
    {
     "data": {
      "text/plain": [
       "'my name is biswaranjan'"
      ]
     },
     "execution_count": 8,
     "metadata": {},
     "output_type": "execute_result"
    }
   ],
   "source": [
    "\"my name is biswaranjan\""
   ]
  },
  {
   "cell_type": "code",
   "execution_count": 13,
   "id": "6f81b2cf",
   "metadata": {},
   "outputs": [
    {
     "data": {
      "text/plain": [
       "4"
      ]
     },
     "execution_count": 13,
     "metadata": {},
     "output_type": "execute_result"
    }
   ],
   "source": [
    "a.find(\"a\")"
   ]
  },
  {
   "cell_type": "code",
   "execution_count": 14,
   "id": "6ae3da53",
   "metadata": {},
   "outputs": [
    {
     "data": {
      "text/plain": [
       "7"
      ]
     },
     "execution_count": 14,
     "metadata": {},
     "output_type": "execute_result"
    }
   ],
   "source": [
    "a.find(\"n\")"
   ]
  },
  {
   "cell_type": "code",
   "execution_count": 15,
   "id": "8228a331",
   "metadata": {},
   "outputs": [
    {
     "data": {
      "text/plain": [
       "-1"
      ]
     },
     "execution_count": 15,
     "metadata": {},
     "output_type": "execute_result"
    }
   ],
   "source": [
    "a.find(\"e\")"
   ]
  },
  {
   "cell_type": "code",
   "execution_count": 16,
   "id": "dd164a77",
   "metadata": {},
   "outputs": [
    {
     "data": {
      "text/plain": [
       "'i am studying at ineuron'"
      ]
     },
     "execution_count": 16,
     "metadata": {},
     "output_type": "execute_result"
    }
   ],
   "source": [
    "\"i am studying at ineuron\""
   ]
  },
  {
   "cell_type": "code",
   "execution_count": 21,
   "id": "e0314de9",
   "metadata": {},
   "outputs": [
    {
     "data": {
      "text/plain": [
       "-1"
      ]
     },
     "execution_count": 21,
     "metadata": {},
     "output_type": "execute_result"
    }
   ],
   "source": [
    "a.find(\"y\")"
   ]
  },
  {
   "cell_type": "code",
   "execution_count": 18,
   "id": "3c0bb95c",
   "metadata": {},
   "outputs": [
    {
     "data": {
      "text/plain": [
       "4"
      ]
     },
     "execution_count": 18,
     "metadata": {},
     "output_type": "execute_result"
    }
   ],
   "source": [
    "a.find(\"a\")"
   ]
  },
  {
   "cell_type": "code",
   "execution_count": 20,
   "id": "172d6765",
   "metadata": {},
   "outputs": [
    {
     "data": {
      "text/plain": [
       "-1"
      ]
     },
     "execution_count": 20,
     "metadata": {},
     "output_type": "execute_result"
    }
   ],
   "source": [
    "a.find(\"y\")"
   ]
  },
  {
   "cell_type": "code",
   "execution_count": 22,
   "id": "330973d7",
   "metadata": {},
   "outputs": [
    {
     "data": {
      "text/plain": [
       "'biswaranjan'"
      ]
     },
     "execution_count": 22,
     "metadata": {},
     "output_type": "execute_result"
    }
   ],
   "source": [
    "a"
   ]
  },
  {
   "cell_type": "code",
   "execution_count": 23,
   "id": "377324c7",
   "metadata": {},
   "outputs": [],
   "source": [
    "a=\"i am studying in ineuron\""
   ]
  },
  {
   "cell_type": "code",
   "execution_count": 24,
   "id": "d82d6102",
   "metadata": {},
   "outputs": [
    {
     "data": {
      "text/plain": [
       "'i am studying in ineuron'"
      ]
     },
     "execution_count": 24,
     "metadata": {},
     "output_type": "execute_result"
    }
   ],
   "source": [
    "a"
   ]
  },
  {
   "cell_type": "code",
   "execution_count": 25,
   "id": "57a067d3",
   "metadata": {},
   "outputs": [
    {
     "data": {
      "text/plain": [
       "1"
      ]
     },
     "execution_count": 25,
     "metadata": {},
     "output_type": "execute_result"
    }
   ],
   "source": [
    "a.count(\"a\")"
   ]
  },
  {
   "cell_type": "code",
   "execution_count": 26,
   "id": "a05012c0",
   "metadata": {},
   "outputs": [
    {
     "data": {
      "text/plain": [
       "4"
      ]
     },
     "execution_count": 26,
     "metadata": {},
     "output_type": "execute_result"
    }
   ],
   "source": [
    "a.count(\"i\")"
   ]
  },
  {
   "cell_type": "code",
   "execution_count": 28,
   "id": "8eb7b938",
   "metadata": {},
   "outputs": [
    {
     "data": {
      "text/plain": [
       "['i', 'am', 'studying', 'in', 'ineuron']"
      ]
     },
     "execution_count": 28,
     "metadata": {},
     "output_type": "execute_result"
    }
   ],
   "source": [
    "a.split()"
   ]
  },
  {
   "cell_type": "code",
   "execution_count": 29,
   "id": "5bc7d2af",
   "metadata": {},
   "outputs": [
    {
     "data": {
      "text/plain": [
       "'i'"
      ]
     },
     "execution_count": 29,
     "metadata": {},
     "output_type": "execute_result"
    }
   ],
   "source": [
    "a[0]"
   ]
  },
  {
   "cell_type": "code",
   "execution_count": 33,
   "id": "3478f0e1",
   "metadata": {},
   "outputs": [
    {
     "data": {
      "text/plain": [
       "'i am studying in ineuron'"
      ]
     },
     "execution_count": 33,
     "metadata": {},
     "output_type": "execute_result"
    }
   ],
   "source": [
    "a"
   ]
  },
  {
   "cell_type": "code",
   "execution_count": 34,
   "id": "e844e069",
   "metadata": {},
   "outputs": [
    {
     "data": {
      "text/plain": [
       "['i', 'am', 'studying', 'in', 'ineuron']"
      ]
     },
     "execution_count": 34,
     "metadata": {},
     "output_type": "execute_result"
    }
   ],
   "source": [
    "a.split()"
   ]
  },
  {
   "cell_type": "code",
   "execution_count": 36,
   "id": "7d6bc783",
   "metadata": {},
   "outputs": [],
   "source": [
    "l=a.split()"
   ]
  },
  {
   "cell_type": "code",
   "execution_count": 37,
   "id": "a124b890",
   "metadata": {},
   "outputs": [
    {
     "data": {
      "text/plain": [
       "['i', 'am', 'studying', 'in', 'ineuron']"
      ]
     },
     "execution_count": 37,
     "metadata": {},
     "output_type": "execute_result"
    }
   ],
   "source": [
    "l"
   ]
  },
  {
   "cell_type": "code",
   "execution_count": 38,
   "id": "6cdc2358",
   "metadata": {},
   "outputs": [
    {
     "data": {
      "text/plain": [
       "'i'"
      ]
     },
     "execution_count": 38,
     "metadata": {},
     "output_type": "execute_result"
    }
   ],
   "source": [
    "l[0]"
   ]
  },
  {
   "cell_type": "code",
   "execution_count": 39,
   "id": "226d0d6c",
   "metadata": {},
   "outputs": [
    {
     "data": {
      "text/plain": [
       "'am'"
      ]
     },
     "execution_count": 39,
     "metadata": {},
     "output_type": "execute_result"
    }
   ],
   "source": [
    "l[1]"
   ]
  },
  {
   "cell_type": "code",
   "execution_count": 40,
   "id": "d859ee4f",
   "metadata": {},
   "outputs": [
    {
     "data": {
      "text/plain": [
       "'in'"
      ]
     },
     "execution_count": 40,
     "metadata": {},
     "output_type": "execute_result"
    }
   ],
   "source": [
    "l[3]"
   ]
  },
  {
   "cell_type": "code",
   "execution_count": 41,
   "id": "8924f365",
   "metadata": {},
   "outputs": [
    {
     "data": {
      "text/plain": [
       "'studying'"
      ]
     },
     "execution_count": 41,
     "metadata": {},
     "output_type": "execute_result"
    }
   ],
   "source": [
    "l[2]"
   ]
  },
  {
   "cell_type": "code",
   "execution_count": 42,
   "id": "6d04d924",
   "metadata": {},
   "outputs": [
    {
     "data": {
      "text/plain": [
       "'ineuron'"
      ]
     },
     "execution_count": 42,
     "metadata": {},
     "output_type": "execute_result"
    }
   ],
   "source": [
    "l[4]"
   ]
  },
  {
   "cell_type": "code",
   "execution_count": 45,
   "id": "ada77a29",
   "metadata": {},
   "outputs": [
    {
     "data": {
      "text/plain": [
       "['i', 'am', 'studying', 'in', 'ineuron']"
      ]
     },
     "execution_count": 45,
     "metadata": {},
     "output_type": "execute_result"
    }
   ],
   "source": [
    "l"
   ]
  },
  {
   "cell_type": "code",
   "execution_count": 46,
   "id": "3507653b",
   "metadata": {},
   "outputs": [
    {
     "data": {
      "text/plain": [
       "'i am studying in ineuron'"
      ]
     },
     "execution_count": 46,
     "metadata": {},
     "output_type": "execute_result"
    }
   ],
   "source": [
    "a"
   ]
  },
  {
   "cell_type": "code",
   "execution_count": 48,
   "id": "29df3e12",
   "metadata": {},
   "outputs": [
    {
     "data": {
      "text/plain": [
       "'I AM STUDYING IN INEURON'"
      ]
     },
     "execution_count": 48,
     "metadata": {},
     "output_type": "execute_result"
    }
   ],
   "source": [
    "a.upper()"
   ]
  },
  {
   "cell_type": "code",
   "execution_count": 50,
   "id": "5c0d26df",
   "metadata": {},
   "outputs": [
    {
     "data": {
      "text/plain": [
       "'i am studying in ineuron'"
      ]
     },
     "execution_count": 50,
     "metadata": {},
     "output_type": "execute_result"
    }
   ],
   "source": [
    "a.lower()"
   ]
  },
  {
   "cell_type": "code",
   "execution_count": 52,
   "id": "47dd1ddd",
   "metadata": {},
   "outputs": [],
   "source": [
    "b=\"biswa\""
   ]
  },
  {
   "cell_type": "code",
   "execution_count": 53,
   "id": "a08f258d",
   "metadata": {},
   "outputs": [
    {
     "data": {
      "text/plain": [
       "'biswa'"
      ]
     },
     "execution_count": 53,
     "metadata": {},
     "output_type": "execute_result"
    }
   ],
   "source": [
    "b"
   ]
  },
  {
   "cell_type": "code",
   "execution_count": 54,
   "id": "0c27d553",
   "metadata": {},
   "outputs": [
    {
     "data": {
      "text/plain": [
       "'BISWA'"
      ]
     },
     "execution_count": 54,
     "metadata": {},
     "output_type": "execute_result"
    }
   ],
   "source": [
    "b.swapcase()"
   ]
  },
  {
   "cell_type": "code",
   "execution_count": 56,
   "id": "fd18c152",
   "metadata": {},
   "outputs": [
    {
     "data": {
      "text/plain": [
       "'Biswa'"
      ]
     },
     "execution_count": 56,
     "metadata": {},
     "output_type": "execute_result"
    }
   ],
   "source": [
    "b.title()"
   ]
  },
  {
   "cell_type": "code",
   "execution_count": 57,
   "id": "c476e2a9",
   "metadata": {},
   "outputs": [
    {
     "data": {
      "text/plain": [
       "'Biswa'"
      ]
     },
     "execution_count": 57,
     "metadata": {},
     "output_type": "execute_result"
    }
   ],
   "source": [
    "b.capitalize()"
   ]
  },
  {
   "cell_type": "code",
   "execution_count": 60,
   "id": "c07c8437",
   "metadata": {},
   "outputs": [
    {
     "data": {
      "text/plain": [
       "'biswa'"
      ]
     },
     "execution_count": 60,
     "metadata": {},
     "output_type": "execute_result"
    }
   ],
   "source": [
    "\"\".join(\"biswa\")"
   ]
  },
  {
   "cell_type": "code",
   "execution_count": 61,
   "id": "88c4d7a8",
   "metadata": {},
   "outputs": [],
   "source": [
    "c=\"biswa\""
   ]
  },
  {
   "cell_type": "code",
   "execution_count": 62,
   "id": "2c7f0381",
   "metadata": {},
   "outputs": [],
   "source": [
    "d=\"ineuron\""
   ]
  },
  {
   "cell_type": "code",
   "execution_count": 64,
   "id": "aa12e819",
   "metadata": {},
   "outputs": [
    {
     "data": {
      "text/plain": [
       "'ibiswanbiswaebiswaubiswarbiswaobiswan'"
      ]
     },
     "execution_count": 64,
     "metadata": {},
     "output_type": "execute_result"
    }
   ],
   "source": [
    "c.join(d)"
   ]
  },
  {
   "cell_type": "code",
   "execution_count": 66,
   "id": "9edece28",
   "metadata": {},
   "outputs": [
    {
     "data": {
      "text/plain": [
       "'biswa'"
      ]
     },
     "execution_count": 66,
     "metadata": {},
     "output_type": "execute_result"
    }
   ],
   "source": [
    "\"\".join(\"biswa\")"
   ]
  },
  {
   "cell_type": "code",
   "execution_count": 67,
   "id": "1878b52b",
   "metadata": {},
   "outputs": [
    {
     "data": {
      "text/plain": [
       "['biswa']"
      ]
     },
     "execution_count": 67,
     "metadata": {},
     "output_type": "execute_result"
    }
   ],
   "source": [
    "c.split()"
   ]
  },
  {
   "cell_type": "code",
   "execution_count": 76,
   "id": "cc395f43",
   "metadata": {},
   "outputs": [
    {
     "data": {
      "text/plain": [
       "'biswa'"
      ]
     },
     "execution_count": 76,
     "metadata": {},
     "output_type": "execute_result"
    }
   ],
   "source": [
    "\"\". join (\"biswa\")"
   ]
  },
  {
   "cell_type": "code",
   "execution_count": 74,
   "id": "46c799d5",
   "metadata": {},
   "outputs": [
    {
     "name": "stdout",
     "output_type": "stream",
     "text": [
      "a\n",
      "w\n",
      "s\n",
      "i\n",
      "b\n"
     ]
    }
   ],
   "source": [
    "for i in reversed(\"biswa\"):\n",
    "   print(i)"
   ]
  },
  {
   "cell_type": "code",
   "execution_count": 77,
   "id": "b6cc347b",
   "metadata": {},
   "outputs": [
    {
     "data": {
      "text/plain": [
       "'biswa'"
      ]
     },
     "execution_count": 77,
     "metadata": {},
     "output_type": "execute_result"
    }
   ],
   "source": [
    "c.rstrip()"
   ]
  },
  {
   "cell_type": "code",
   "execution_count": 78,
   "id": "d1b1a90b",
   "metadata": {},
   "outputs": [],
   "source": [
    "c=\" biswa \""
   ]
  },
  {
   "cell_type": "code",
   "execution_count": 79,
   "id": "fea95f72",
   "metadata": {},
   "outputs": [
    {
     "data": {
      "text/plain": [
       "'biswa '"
      ]
     },
     "execution_count": 79,
     "metadata": {},
     "output_type": "execute_result"
    }
   ],
   "source": [
    "c.lstrip()"
   ]
  },
  {
   "cell_type": "code",
   "execution_count": 80,
   "id": "44e3369c",
   "metadata": {},
   "outputs": [
    {
     "data": {
      "text/plain": [
       "' biswa'"
      ]
     },
     "execution_count": 80,
     "metadata": {},
     "output_type": "execute_result"
    }
   ],
   "source": [
    "c.rstrip()"
   ]
  },
  {
   "cell_type": "code",
   "execution_count": 81,
   "id": "801574d7",
   "metadata": {},
   "outputs": [
    {
     "data": {
      "text/plain": [
       "' siswa '"
      ]
     },
     "execution_count": 81,
     "metadata": {},
     "output_type": "execute_result"
    }
   ],
   "source": [
    "c.replace(\"b\",\"s\")"
   ]
  },
  {
   "cell_type": "code",
   "execution_count": 25,
   "id": "b4555e55",
   "metadata": {},
   "outputs": [],
   "source": [
    "c=\"subbu\""
   ]
  },
  {
   "cell_type": "code",
   "execution_count": 26,
   "id": "56942162",
   "metadata": {},
   "outputs": [
    {
     "data": {
      "text/plain": [
       "'subbu'"
      ]
     },
     "execution_count": 26,
     "metadata": {},
     "output_type": "execute_result"
    }
   ],
   "source": [
    "c.replace(\"biswa\",\"subbu\")"
   ]
  },
  {
   "cell_type": "code",
   "execution_count": 28,
   "id": "fa333648",
   "metadata": {},
   "outputs": [
    {
     "data": {
      "text/plain": [
       "'biswa'"
      ]
     },
     "execution_count": 28,
     "metadata": {},
     "output_type": "execute_result"
    }
   ],
   "source": [
    "c.replace(\"subbu\",\"biswa\")"
   ]
  },
  {
   "cell_type": "code",
   "execution_count": 12,
   "id": "db16aae5",
   "metadata": {},
   "outputs": [
    {
     "data": {
      "text/plain": [
       "'c+d'"
      ]
     },
     "execution_count": 12,
     "metadata": {},
     "output_type": "execute_result"
    }
   ],
   "source": [
    "str(\"c+d\")"
   ]
  },
  {
   "cell_type": "code",
   "execution_count": 84,
   "id": "3c5a1925",
   "metadata": {},
   "outputs": [
    {
     "data": {
      "text/plain": [
       "'ineuron'"
      ]
     },
     "execution_count": 84,
     "metadata": {},
     "output_type": "execute_result"
    }
   ],
   "source": [
    "d"
   ]
  },
  {
   "cell_type": "code",
   "execution_count": 85,
   "id": "3ea5f7d1",
   "metadata": {},
   "outputs": [
    {
     "data": {
      "text/plain": [
       "' biswa '"
      ]
     },
     "execution_count": 85,
     "metadata": {},
     "output_type": "execute_result"
    }
   ],
   "source": [
    "c"
   ]
  },
  {
   "cell_type": "code",
   "execution_count": 86,
   "id": "a940e513",
   "metadata": {},
   "outputs": [
    {
     "data": {
      "text/plain": [
       "' biswa ineuron'"
      ]
     },
     "execution_count": 86,
     "metadata": {},
     "output_type": "execute_result"
    }
   ],
   "source": [
    "str(c+d)"
   ]
  },
  {
   "cell_type": "code",
   "execution_count": 89,
   "id": "ad0a492f",
   "metadata": {},
   "outputs": [],
   "source": [
    "a=\"chintu\""
   ]
  },
  {
   "cell_type": "code",
   "execution_count": 90,
   "id": "f444a441",
   "metadata": {},
   "outputs": [
    {
     "data": {
      "text/plain": [
       "'chintu'"
      ]
     },
     "execution_count": 90,
     "metadata": {},
     "output_type": "execute_result"
    }
   ],
   "source": [
    "a"
   ]
  },
  {
   "cell_type": "code",
   "execution_count": 91,
   "id": "ddeb4e5e",
   "metadata": {},
   "outputs": [],
   "source": [
    "b=\"subbu\""
   ]
  },
  {
   "cell_type": "code",
   "execution_count": 92,
   "id": "36a0fc3a",
   "metadata": {},
   "outputs": [
    {
     "data": {
      "text/plain": [
       "'subbu'"
      ]
     },
     "execution_count": 92,
     "metadata": {},
     "output_type": "execute_result"
    }
   ],
   "source": [
    "b"
   ]
  },
  {
   "cell_type": "code",
   "execution_count": 93,
   "id": "f6515aae",
   "metadata": {},
   "outputs": [
    {
     "data": {
      "text/plain": [
       "'chintusubbu'"
      ]
     },
     "execution_count": 93,
     "metadata": {},
     "output_type": "execute_result"
    }
   ],
   "source": [
    "str(a+b)"
   ]
  },
  {
   "cell_type": "code",
   "execution_count": 96,
   "id": "d54fe48d",
   "metadata": {},
   "outputs": [
    {
     "data": {
      "text/plain": [
       "'chintu  subbu'"
      ]
     },
     "execution_count": 96,
     "metadata": {},
     "output_type": "execute_result"
    }
   ],
   "source": [
    "\"chintu\\tsubbu\".expandtabs()"
   ]
  },
  {
   "cell_type": "code",
   "execution_count": 97,
   "id": "e511fc47",
   "metadata": {},
   "outputs": [
    {
     "data": {
      "text/plain": [
       "'chintu'"
      ]
     },
     "execution_count": 97,
     "metadata": {},
     "output_type": "execute_result"
    }
   ],
   "source": [
    "a"
   ]
  },
  {
   "cell_type": "code",
   "execution_count": 108,
   "id": "8275eec7",
   "metadata": {},
   "outputs": [
    {
     "data": {
      "text/plain": [
       "'chintu'"
      ]
     },
     "execution_count": 108,
     "metadata": {},
     "output_type": "execute_result"
    }
   ],
   "source": [
    "a"
   ]
  },
  {
   "cell_type": "code",
   "execution_count": 110,
   "id": "e0fbbcff",
   "metadata": {},
   "outputs": [
    {
     "data": {
      "text/plain": [
       "'###########################chintu###########################'"
      ]
     },
     "execution_count": 110,
     "metadata": {},
     "output_type": "execute_result"
    }
   ],
   "source": [
    "a.center(60,(\"#\"))"
   ]
  },
  {
   "cell_type": "code",
   "execution_count": 112,
   "id": "88146830",
   "metadata": {},
   "outputs": [
    {
     "data": {
      "text/plain": [
       "'ffffffffffffffffffffffchintuffffffffffffffffffffff'"
      ]
     },
     "execution_count": 112,
     "metadata": {},
     "output_type": "execute_result"
    }
   ],
   "source": [
    "a.center(50,(\"f\"))"
   ]
  },
  {
   "cell_type": "code",
   "execution_count": 113,
   "id": "a039e272",
   "metadata": {},
   "outputs": [
    {
     "data": {
      "text/plain": [
       "'chintu'"
      ]
     },
     "execution_count": 113,
     "metadata": {},
     "output_type": "execute_result"
    }
   ],
   "source": [
    "a.strip()"
   ]
  },
  {
   "cell_type": "code",
   "execution_count": 14,
   "id": "335c1e7b",
   "metadata": {},
   "outputs": [],
   "source": [
    "a=\"biswa\""
   ]
  },
  {
   "cell_type": "code",
   "execution_count": 15,
   "id": "6d829358",
   "metadata": {},
   "outputs": [
    {
     "data": {
      "text/plain": [
       "False"
      ]
     },
     "execution_count": 15,
     "metadata": {},
     "output_type": "execute_result"
    }
   ],
   "source": [
    "a.isupper()"
   ]
  },
  {
   "cell_type": "code",
   "execution_count": 16,
   "id": "46635a42",
   "metadata": {},
   "outputs": [
    {
     "data": {
      "text/plain": [
       "True"
      ]
     },
     "execution_count": 16,
     "metadata": {},
     "output_type": "execute_result"
    }
   ],
   "source": [
    "a.islower()"
   ]
  },
  {
   "cell_type": "code",
   "execution_count": 18,
   "id": "30b64c22",
   "metadata": {},
   "outputs": [
    {
     "data": {
      "text/plain": [
       "False"
      ]
     },
     "execution_count": 18,
     "metadata": {},
     "output_type": "execute_result"
    }
   ],
   "source": [
    "a.isdigit()"
   ]
  },
  {
   "cell_type": "code",
   "execution_count": 23,
   "id": "6206230c",
   "metadata": {},
   "outputs": [],
   "source": [
    "a=\"1234\""
   ]
  },
  {
   "cell_type": "code",
   "execution_count": 24,
   "id": "4120265e",
   "metadata": {},
   "outputs": [
    {
     "data": {
      "text/plain": [
       "True"
      ]
     },
     "execution_count": 24,
     "metadata": {},
     "output_type": "execute_result"
    }
   ],
   "source": [
    "a.isdigit()"
   ]
  },
  {
   "cell_type": "code",
   "execution_count": 29,
   "id": "f3014735",
   "metadata": {},
   "outputs": [
    {
     "data": {
      "text/plain": [
       "'1234'"
      ]
     },
     "execution_count": 29,
     "metadata": {},
     "output_type": "execute_result"
    }
   ],
   "source": [
    "a"
   ]
  },
  {
   "cell_type": "code",
   "execution_count": 30,
   "id": "a6237177",
   "metadata": {},
   "outputs": [],
   "source": [
    "a=\"biswa\""
   ]
  },
  {
   "cell_type": "code",
   "execution_count": 31,
   "id": "2bda0597",
   "metadata": {},
   "outputs": [
    {
     "data": {
      "text/plain": [
       "True"
      ]
     },
     "execution_count": 31,
     "metadata": {},
     "output_type": "execute_result"
    }
   ],
   "source": [
    "a.endswith(\"a\")"
   ]
  },
  {
   "cell_type": "code",
   "execution_count": 32,
   "id": "48242c93",
   "metadata": {},
   "outputs": [
    {
     "data": {
      "text/plain": [
       "False"
      ]
     },
     "execution_count": 32,
     "metadata": {},
     "output_type": "execute_result"
    }
   ],
   "source": [
    "a.endswith(\"b\")"
   ]
  },
  {
   "cell_type": "code",
   "execution_count": 33,
   "id": "9c7e944d",
   "metadata": {},
   "outputs": [],
   "source": [
    "a=\"biswaranjan\""
   ]
  },
  {
   "cell_type": "code",
   "execution_count": 34,
   "id": "f0d16cd8",
   "metadata": {},
   "outputs": [
    {
     "data": {
      "text/plain": [
       "'biswaranjan'"
      ]
     },
     "execution_count": 34,
     "metadata": {},
     "output_type": "execute_result"
    }
   ],
   "source": [
    "a.expandtabs()"
   ]
  },
  {
   "cell_type": "code",
   "execution_count": 36,
   "id": "6ebd055e",
   "metadata": {},
   "outputs": [
    {
     "data": {
      "text/plain": [
       "'biswa   ranjan'"
      ]
     },
     "execution_count": 36,
     "metadata": {},
     "output_type": "execute_result"
    }
   ],
   "source": [
    "\"biswa\\tranjan\".expandtabs()"
   ]
  },
  {
   "cell_type": "code",
   "execution_count": 38,
   "id": "3ca920bd",
   "metadata": {},
   "outputs": [
    {
     "data": {
      "text/plain": [
       "False"
      ]
     },
     "execution_count": 38,
     "metadata": {},
     "output_type": "execute_result"
    }
   ],
   "source": [
    "a.startswith('c')"
   ]
  },
  {
   "cell_type": "code",
   "execution_count": 39,
   "id": "1bada34c",
   "metadata": {},
   "outputs": [
    {
     "data": {
      "text/plain": [
       "False"
      ]
     },
     "execution_count": 39,
     "metadata": {},
     "output_type": "execute_result"
    }
   ],
   "source": [
    "a.istitle()"
   ]
  },
  {
   "cell_type": "code",
   "execution_count": 40,
   "id": "0772c783",
   "metadata": {},
   "outputs": [
    {
     "data": {
      "text/plain": [
       "b'biswaranjan'"
      ]
     },
     "execution_count": 40,
     "metadata": {},
     "output_type": "execute_result"
    }
   ],
   "source": [
    "a.encode()"
   ]
  },
  {
   "cell_type": "code",
   "execution_count": 41,
   "id": "fd10fdd8",
   "metadata": {},
   "outputs": [],
   "source": [
    "l=[\"chintu\",\"subbu\",143,5+8j,True,560.67,False]"
   ]
  },
  {
   "cell_type": "code",
   "execution_count": 43,
   "id": "5868e884",
   "metadata": {},
   "outputs": [
    {
     "data": {
      "text/plain": [
       "list"
      ]
     },
     "execution_count": 43,
     "metadata": {},
     "output_type": "execute_result"
    }
   ],
   "source": [
    "type(l)"
   ]
  },
  {
   "cell_type": "code",
   "execution_count": 45,
   "id": "2245c59e",
   "metadata": {},
   "outputs": [
    {
     "data": {
      "text/plain": [
       "'chintu'"
      ]
     },
     "execution_count": 45,
     "metadata": {},
     "output_type": "execute_result"
    }
   ],
   "source": [
    "l[0]"
   ]
  },
  {
   "cell_type": "code",
   "execution_count": 46,
   "id": "0f9b97a4",
   "metadata": {},
   "outputs": [
    {
     "data": {
      "text/plain": [
       "False"
      ]
     },
     "execution_count": 46,
     "metadata": {},
     "output_type": "execute_result"
    }
   ],
   "source": [
    "l[-1]"
   ]
  },
  {
   "cell_type": "code",
   "execution_count": 48,
   "id": "7699deb2",
   "metadata": {},
   "outputs": [
    {
     "data": {
      "text/plain": [
       "(5+8j)"
      ]
     },
     "execution_count": 48,
     "metadata": {},
     "output_type": "execute_result"
    }
   ],
   "source": [
    "l[-4]"
   ]
  },
  {
   "cell_type": "code",
   "execution_count": 50,
   "id": "a523881d",
   "metadata": {},
   "outputs": [
    {
     "data": {
      "text/plain": [
       "['chintu', 'subbu', 143, (5+8j), True, 560.67, False]"
      ]
     },
     "execution_count": 50,
     "metadata": {},
     "output_type": "execute_result"
    }
   ],
   "source": [
    "l"
   ]
  },
  {
   "cell_type": "code",
   "execution_count": 52,
   "id": "e4f106bd",
   "metadata": {},
   "outputs": [
    {
     "data": {
      "text/plain": [
       "'chintu'"
      ]
     },
     "execution_count": 52,
     "metadata": {},
     "output_type": "execute_result"
    }
   ],
   "source": [
    "l[0]"
   ]
  },
  {
   "cell_type": "code",
   "execution_count": 53,
   "id": "78517c37",
   "metadata": {},
   "outputs": [
    {
     "data": {
      "text/plain": [
       "'n'"
      ]
     },
     "execution_count": 53,
     "metadata": {},
     "output_type": "execute_result"
    }
   ],
   "source": [
    "l[0][3]"
   ]
  },
  {
   "cell_type": "code",
   "execution_count": 54,
   "id": "3fbcc9c8",
   "metadata": {},
   "outputs": [
    {
     "data": {
      "text/plain": [
       "'b'"
      ]
     },
     "execution_count": 54,
     "metadata": {},
     "output_type": "execute_result"
    }
   ],
   "source": [
    "l[1][3]"
   ]
  },
  {
   "cell_type": "code",
   "execution_count": 55,
   "id": "ed7a3e95",
   "metadata": {},
   "outputs": [
    {
     "data": {
      "text/plain": [
       "['chintu', 'subbu', 143, (5+8j), True, 560.67, False]"
      ]
     },
     "execution_count": 55,
     "metadata": {},
     "output_type": "execute_result"
    }
   ],
   "source": [
    "l"
   ]
  },
  {
   "cell_type": "code",
   "execution_count": 56,
   "id": "035223c9",
   "metadata": {},
   "outputs": [
    {
     "data": {
      "text/plain": [
       "'chintu'"
      ]
     },
     "execution_count": 56,
     "metadata": {},
     "output_type": "execute_result"
    }
   ],
   "source": [
    "l[0]"
   ]
  },
  {
   "cell_type": "code",
   "execution_count": 57,
   "id": "be07817a",
   "metadata": {},
   "outputs": [],
   "source": [
    "l[0]=\"biswa\""
   ]
  },
  {
   "cell_type": "code",
   "execution_count": 58,
   "id": "f84ad9dd",
   "metadata": {},
   "outputs": [
    {
     "data": {
      "text/plain": [
       "['biswa', 'subbu', 143, (5+8j), True, 560.67, False]"
      ]
     },
     "execution_count": 58,
     "metadata": {},
     "output_type": "execute_result"
    }
   ],
   "source": [
    "l"
   ]
  },
  {
   "cell_type": "code",
   "execution_count": 59,
   "id": "1cec6cd3",
   "metadata": {},
   "outputs": [
    {
     "data": {
      "text/plain": [
       "['biswa', 'subbu', 143, (5+8j), True, 560.67, False]"
      ]
     },
     "execution_count": 59,
     "metadata": {},
     "output_type": "execute_result"
    }
   ],
   "source": [
    "l"
   ]
  },
  {
   "cell_type": "code",
   "execution_count": 60,
   "id": "57feb14e",
   "metadata": {},
   "outputs": [
    {
     "data": {
      "text/plain": [
       "'biswa'"
      ]
     },
     "execution_count": 60,
     "metadata": {},
     "output_type": "execute_result"
    }
   ],
   "source": [
    "l[0]"
   ]
  },
  {
   "cell_type": "code",
   "execution_count": 61,
   "id": "4dbf08de",
   "metadata": {},
   "outputs": [],
   "source": [
    "l[0]='chintu'"
   ]
  },
  {
   "cell_type": "code",
   "execution_count": 62,
   "id": "f43acce6",
   "metadata": {},
   "outputs": [
    {
     "data": {
      "text/plain": [
       "['chintu', 'subbu', 143, (5+8j), True, 560.67, False]"
      ]
     },
     "execution_count": 62,
     "metadata": {},
     "output_type": "execute_result"
    }
   ],
   "source": [
    "l"
   ]
  },
  {
   "cell_type": "code",
   "execution_count": 63,
   "id": "7f22ba6f",
   "metadata": {},
   "outputs": [
    {
     "data": {
      "text/plain": [
       "'chintu'"
      ]
     },
     "execution_count": 63,
     "metadata": {},
     "output_type": "execute_result"
    }
   ],
   "source": [
    "l[0]"
   ]
  },
  {
   "cell_type": "code",
   "execution_count": 64,
   "id": "9666e439",
   "metadata": {},
   "outputs": [],
   "source": [
    "l[0]=\"b\""
   ]
  },
  {
   "cell_type": "code",
   "execution_count": 65,
   "id": "1ad19c75",
   "metadata": {},
   "outputs": [
    {
     "data": {
      "text/plain": [
       "['b', 'subbu', 143, (5+8j), True, 560.67, False]"
      ]
     },
     "execution_count": 65,
     "metadata": {},
     "output_type": "execute_result"
    }
   ],
   "source": [
    "l"
   ]
  },
  {
   "cell_type": "code",
   "execution_count": 67,
   "id": "d90366f1",
   "metadata": {},
   "outputs": [],
   "source": [
    "l[0]=\"c\""
   ]
  },
  {
   "cell_type": "code",
   "execution_count": 68,
   "id": "08a7473c",
   "metadata": {},
   "outputs": [],
   "source": [
    "s=\"chintu\""
   ]
  },
  {
   "cell_type": "code",
   "execution_count": 69,
   "id": "5ed45973",
   "metadata": {},
   "outputs": [
    {
     "ename": "TypeError",
     "evalue": "'str' object does not support item assignment",
     "output_type": "error",
     "traceback": [
      "\u001b[1;31m---------------------------------------------------------------------------\u001b[0m",
      "\u001b[1;31mTypeError\u001b[0m                                 Traceback (most recent call last)",
      "Input \u001b[1;32mIn [69]\u001b[0m, in \u001b[0;36m<cell line: 1>\u001b[1;34m()\u001b[0m\n\u001b[1;32m----> 1\u001b[0m s[\u001b[38;5;241m0\u001b[39m]\u001b[38;5;241m=\u001b[39m\u001b[38;5;124m'\u001b[39m\u001b[38;5;124mb\u001b[39m\u001b[38;5;124m'\u001b[39m\n",
      "\u001b[1;31mTypeError\u001b[0m: 'str' object does not support item assignment"
     ]
    }
   ],
   "source": [
    "s[0]='b'"
   ]
  },
  {
   "cell_type": "code",
   "execution_count": 77,
   "id": "69abf3f9",
   "metadata": {},
   "outputs": [],
   "source": [
    "l2=[\"xyz\",1234,567,\"chintu\"]"
   ]
  },
  {
   "cell_type": "code",
   "execution_count": 78,
   "id": "41c58ccd",
   "metadata": {},
   "outputs": [
    {
     "data": {
      "text/plain": [
       "['xyz', 1234, 567, 'chintu']"
      ]
     },
     "execution_count": 78,
     "metadata": {},
     "output_type": "execute_result"
    }
   ],
   "source": [
    "l2"
   ]
  },
  {
   "cell_type": "code",
   "execution_count": 81,
   "id": "8d1cce96",
   "metadata": {},
   "outputs": [],
   "source": [
    "l2.append('subbu')"
   ]
  },
  {
   "cell_type": "code",
   "execution_count": 82,
   "id": "405ec5ca",
   "metadata": {},
   "outputs": [
    {
     "data": {
      "text/plain": [
       "['xyz', 1234, 567, 'chintu', 'subbu', 'subbu']"
      ]
     },
     "execution_count": 82,
     "metadata": {},
     "output_type": "execute_result"
    }
   ],
   "source": [
    "l2"
   ]
  },
  {
   "cell_type": "code",
   "execution_count": 83,
   "id": "b214570f",
   "metadata": {},
   "outputs": [
    {
     "data": {
      "text/plain": [
       "'subbu'"
      ]
     },
     "execution_count": 83,
     "metadata": {},
     "output_type": "execute_result"
    }
   ],
   "source": [
    "l2.pop()"
   ]
  },
  {
   "cell_type": "code",
   "execution_count": 84,
   "id": "1217e51a",
   "metadata": {},
   "outputs": [
    {
     "data": {
      "text/plain": [
       "['xyz', 1234, 567, 'chintu', 'subbu']"
      ]
     },
     "execution_count": 84,
     "metadata": {},
     "output_type": "execute_result"
    }
   ],
   "source": [
    "l2"
   ]
  },
  {
   "cell_type": "code",
   "execution_count": 87,
   "id": "91f82b48",
   "metadata": {},
   "outputs": [],
   "source": [
    "l2.insert(1,'bitch')"
   ]
  },
  {
   "cell_type": "markdown",
   "id": "29576f25",
   "metadata": {},
   "source": [
    "l2"
   ]
  },
  {
   "cell_type": "code",
   "execution_count": 88,
   "id": "fabbd563",
   "metadata": {},
   "outputs": [
    {
     "data": {
      "text/plain": [
       "['xyz', 'bitch', 1234, 567, 'chintu', 'subbu']"
      ]
     },
     "execution_count": 88,
     "metadata": {},
     "output_type": "execute_result"
    }
   ],
   "source": [
    "l2"
   ]
  },
  {
   "cell_type": "code",
   "execution_count": 91,
   "id": "8635af1a",
   "metadata": {},
   "outputs": [],
   "source": [
    "l2.insert(4,\"loves\")"
   ]
  },
  {
   "cell_type": "code",
   "execution_count": 92,
   "id": "1638b52c",
   "metadata": {},
   "outputs": [
    {
     "data": {
      "text/plain": [
       "['xyz', 'bitch', 1234, 567, 'loves', 'loves', 'chintu', 'subbu']"
      ]
     },
     "execution_count": 92,
     "metadata": {},
     "output_type": "execute_result"
    }
   ],
   "source": [
    "l2"
   ]
  },
  {
   "cell_type": "code",
   "execution_count": 95,
   "id": "b5ac8ffb",
   "metadata": {},
   "outputs": [
    {
     "data": {
      "text/plain": [
       "'loves'"
      ]
     },
     "execution_count": 95,
     "metadata": {},
     "output_type": "execute_result"
    }
   ],
   "source": [
    "l2.pop(4)"
   ]
  },
  {
   "cell_type": "code",
   "execution_count": 96,
   "id": "407b98de",
   "metadata": {},
   "outputs": [
    {
     "data": {
      "text/plain": [
       "['xyz', 'bitch', 1234, 567, 'chintu', 'subbu']"
      ]
     },
     "execution_count": 96,
     "metadata": {},
     "output_type": "execute_result"
    }
   ],
   "source": [
    "l2"
   ]
  },
  {
   "cell_type": "code",
   "execution_count": 97,
   "id": "241a96d0",
   "metadata": {},
   "outputs": [],
   "source": [
    "l2.insert(5,'loves')"
   ]
  },
  {
   "cell_type": "code",
   "execution_count": 98,
   "id": "9287c34f",
   "metadata": {},
   "outputs": [
    {
     "data": {
      "text/plain": [
       "['xyz', 'bitch', 1234, 567, 'chintu', 'loves', 'subbu']"
      ]
     },
     "execution_count": 98,
     "metadata": {},
     "output_type": "execute_result"
    }
   ],
   "source": [
    "l2"
   ]
  },
  {
   "cell_type": "code",
   "execution_count": null,
   "id": "30b7e86c",
   "metadata": {},
   "outputs": [],
   "source": []
  }
 ],
 "metadata": {
  "kernelspec": {
   "display_name": "Python 3 (ipykernel)",
   "language": "python",
   "name": "python3"
  },
  "language_info": {
   "codemirror_mode": {
    "name": "ipython",
    "version": 3
   },
   "file_extension": ".py",
   "mimetype": "text/x-python",
   "name": "python",
   "nbconvert_exporter": "python",
   "pygments_lexer": "ipython3",
   "version": "3.9.12"
  }
 },
 "nbformat": 4,
 "nbformat_minor": 5
}
